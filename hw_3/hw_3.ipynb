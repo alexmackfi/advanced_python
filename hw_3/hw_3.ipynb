{
  "nbformat": 4,
  "nbformat_minor": 0,
  "metadata": {
    "colab": {
      "private_outputs": true,
      "provenance": []
    },
    "kernelspec": {
      "name": "python3",
      "display_name": "Python 3"
    },
    "language_info": {
      "name": "python"
    }
  },
  "cells": [
    {
      "cell_type": "markdown",
      "source": [
        "# Задание 1"
      ],
      "metadata": {
        "id": "D9VhsTz0KPMK"
      }
    },
    {
      "cell_type": "markdown",
      "source": [
        "Сделать класс матрицы, в котором определить операции сложения и умножения (матричного и покомпонентного) через перегрузку операторов `+, *, @` (как в `numpy`). Вызывать исключения, если матрицы на входе некорректной размерности (`ValueError`)\n",
        "Сгенерировать две матрицы через `np.random.randint(0, 10, (10, 10))` c seed-ом 0 и над ними провести все три операции. Записать результаты в текстовые файлы, названные `matrix+.txt`,\n",
        "`matrix*.txt`,\n",
        "`matrix@.txt`, соответственно. Это будет артефактом задачи.\n"
      ],
      "metadata": {
        "id": "YXEhx-2UKTAu"
      }
    },
    {
      "cell_type": "code",
      "execution_count": null,
      "metadata": {
        "id": "jFrufgGkJknx"
      },
      "outputs": [],
      "source": [
        "import numpy as np\n",
        "\n",
        "np.random.seed(0)"
      ]
    },
    {
      "cell_type": "code",
      "source": [
        "type(9.)==float"
      ],
      "metadata": {
        "id": "KioO5v15KbU7"
      },
      "execution_count": null,
      "outputs": []
    },
    {
      "cell_type": "code",
      "source": [
        "import copy\n",
        "\n",
        "class Matrix():\n",
        "\n",
        "    @staticmethod\n",
        "    def matrix_shape(matrix):\n",
        "        return (len(matrix),len(matrix[0]))\n",
        "\n",
        "    def __init__(self, mas):\n",
        "        self.matrix = list(map(list, mas))\n",
        "        self.matrix_shape = self.matrix_shape(self.matrix)\n",
        "\n",
        "    def __add__(self, other):\n",
        "        types = [int,float]\n",
        "        sum_matrix = copy.deepcopy(self.matrix)\n",
        "        if type(other) in types:\n",
        "            for i in range(self.matrix_shape[0]):\n",
        "                for j in range(self.matrix_shape[1]):\n",
        "                    sum_matrix[i][j]+=other\n",
        "        elif not isinstance(other, type(self)):\n",
        "             raise TypeError(\n",
        "                f'Expected {type(other)!r} to be an Matrix or Number')\n",
        "        elif self.matrix_shape != other.matrix_shape:\n",
        "            raise ValueError(\n",
        "                f'Expected size {other.matrix_shape!r} not equal sizes {self.matrix_shape!r} ')\n",
        "        else:\n",
        "            for i in range(self.matrix_shape[0]):\n",
        "                for j in range(self.matrix_shape[1]):\n",
        "                    sum_matrix[i][j]+=other.matrix[i][j]\n",
        "        return sum_matrix\n",
        "\n",
        "    def __mul__(self, other):\n",
        "        types = [int,float]\n",
        "        mult_matrix = copy.deepcopy(self.matrix)\n",
        "        if type(other) in types:\n",
        "            for i in range(self.matrix_shape[0]):\n",
        "                for j in range(self.matrix_shape[1]):\n",
        "                    mult_matrix[i][j]*=other\n",
        "        elif not isinstance(other, type(self)):\n",
        "             raise TypeError(\n",
        "                f'Expected {type(other)!r} to be an Matrix or Number')\n",
        "        elif self.matrix_shape != other.matrix_shape:\n",
        "            raise ValueError(\n",
        "                f'Expected size {other.matrix_shape!r} not equal sizes {self.matrix_shape!r} ')\n",
        "        else:\n",
        "            for i in range(self.matrix_shape[0]):\n",
        "                for j in range(self.matrix_shape[1]):\n",
        "                    mult_matrix[i][j]*=other.matrix[i][j]\n",
        "        return mult_matrix\n",
        "\n",
        "    def __matmul__(self, other):\n",
        "        if not isinstance(other, type(self)):\n",
        "             raise TypeError(\n",
        "                f'Expected {type(other)!r} to be an Matrix')\n",
        "        elif self.matrix_shape[1] != other.matrix_shape[0]:\n",
        "            raise ValueError(\n",
        "                f'Expected size {other.matrix_shape[0]!r} not equal sizes {self.matrix_shape[1]!r} ')\n",
        "        else:\n",
        "            mult_matrix = [[0 for i in range(other.matrix_shape[1])] for j in range(self.matrix_shape[0])]\n",
        "            for i in range(self.matrix_shape[0]):\n",
        "                for j in range(other.matrix_shape[1]):\n",
        "                    mult_matrix[i][j]= sum([self.matrix[i][k]*other.matrix[k][j] for k in range(other.matrix_shape[0])])\n",
        "        return mult_matrix"
      ],
      "metadata": {
        "id": "iHtHfgpqKb2_"
      },
      "execution_count": null,
      "outputs": []
    },
    {
      "cell_type": "code",
      "source": [
        "a = Matrix(np.random.randint(0, 10, (10, 10)))\n",
        "b = Matrix(np.random.randint(0, 10, (10, 10)))"
      ],
      "metadata": {
        "id": "CCD1Y9n_Kl_q"
      },
      "execution_count": null,
      "outputs": []
    },
    {
      "cell_type": "code",
      "source": [
        "a.matrix"
      ],
      "metadata": {
        "id": "qKm4lj9TKmmH"
      },
      "execution_count": null,
      "outputs": []
    },
    {
      "cell_type": "code",
      "source": [
        "b.matrix"
      ],
      "metadata": {
        "id": "bfIHuGq1KqrA"
      },
      "execution_count": null,
      "outputs": []
    },
    {
      "cell_type": "code",
      "source": [
        "a+b"
      ],
      "metadata": {
        "id": "BcOte7aaKrfc"
      },
      "execution_count": null,
      "outputs": []
    },
    {
      "cell_type": "code",
      "source": [
        "a*b"
      ],
      "metadata": {
        "id": "ypdnKg9cK47D"
      },
      "execution_count": null,
      "outputs": []
    },
    {
      "cell_type": "code",
      "source": [
        "a@b"
      ],
      "metadata": {
        "id": "2sjTnUVFK6Y3"
      },
      "execution_count": null,
      "outputs": []
    },
    {
      "cell_type": "markdown",
      "source": [
        "# Задача 2"
      ],
      "metadata": {
        "id": "zfw_0bywLWB9"
      }
    },
    {
      "cell_type": "markdown",
      "source": [
        "Используя примеси numpy, сделать класс, который будет уметь выполнять все стандартные арифметические операции.\n",
        "Также добавить через примеси: запись объекта в файл, красивое отображение в консоли (`__str__`), getter-ы и setter-ы для полей класса\n",
        "В самих классах должно быть минимальное количество методов\n",
        "Артефакты задачи - аналогично задаче 3.1\n"
      ],
      "metadata": {
        "id": "d356WWhvLZsD"
      }
    },
    {
      "cell_type": "code",
      "source": [
        "import numpy as np\n",
        "from numpy.lib.mixins import NDArrayOperatorsMixin\n",
        "\n",
        "\n",
        "class StrMixin:\n",
        "    def __str__(self):\n",
        "        return '\\n'.join(['\\t'.join(map(str, row)) for row in self.matrix])\n",
        "\n",
        "\n",
        "class SaveMixin:\n",
        "    def save(self, filename):\n",
        "        np.savetxt(filename, self.matrix, fmt='%d', delimiter=\"\\t\")\n",
        "\n",
        "\n",
        "class SetGetMixin:\n",
        "    @property\n",
        "    def data(self):\n",
        "        return self._matrix\n",
        "\n",
        "    @data.setter\n",
        "    def data(self, matrix):\n",
        "        self.matrix = matrix\n",
        "        if len(matrix) == 0:\n",
        "            raise ValueError('Empty matrices are not supported')\n",
        "        if len(matrix[0]) == 0:\n",
        "            raise ValueError('Empty columns are not supported')\n",
        "        self.shape = (len(matrix),len(matrix[0]))\n",
        "\n",
        "\n",
        "class MixinMatrix(NDArrayOperatorsMixin, StrMixin, SaveMixin, SetGetMixin):\n",
        "    def __init__(self, matrix):\n",
        "        self.data = np.asarray(matrix)\n",
        "\n",
        "    def __array_ufunc__(self, ufunc, method, *inputs, **kwargs):\n",
        "        new_inputs = []\n",
        "        for input_ in inputs:\n",
        "            if isinstance(input_, MixinMatrix):\n",
        "                new_inputs.append(input_.matrix)\n",
        "            else:\n",
        "                new_inputs.append(input_)\n",
        "\n",
        "        result = getattr(ufunc, method)(*new_inputs, **kwargs)\n",
        "\n",
        "        if method == '__call__' and isinstance(result, np.ndarray):\n",
        "            return MixinMatrix(result.tolist())\n",
        "        else:\n",
        "            return result"
      ],
      "metadata": {
        "id": "NgaVJzgKLZGB"
      },
      "execution_count": null,
      "outputs": []
    },
    {
      "cell_type": "code",
      "source": [
        "# a = [[11,2,3],[4,5,6],[4,5,6]]\n",
        "# b = [[1,2,3],[4,5,6],[4,5,6]]\n",
        "a = np.random.randint(0, 10, (10, 10))\n",
        "b =np.random.randint(0, 10, (10, 10))\n",
        "\n",
        "A = MixinMatrix(a)\n",
        "B = MixinMatrix(b)\n",
        "\n",
        "(A + B).save('matrix+.txt')\n",
        "(A * B).save('matrix*.txt')\n",
        "(A @ B).save('matrix@.txt')"
      ],
      "metadata": {
        "id": "r_OrDTiJNiWc"
      },
      "execution_count": null,
      "outputs": []
    },
    {
      "cell_type": "code",
      "source": [
        "A.shape"
      ],
      "metadata": {
        "id": "5nraw4dbSwZP"
      },
      "execution_count": null,
      "outputs": []
    },
    {
      "cell_type": "code",
      "source": [
        "A.matrix"
      ],
      "metadata": {
        "id": "nvgeCRhWVEgZ"
      },
      "execution_count": null,
      "outputs": []
    },
    {
      "cell_type": "code",
      "source": [
        "print(A)"
      ],
      "metadata": {
        "id": "9DvumSsgOWJ8"
      },
      "execution_count": null,
      "outputs": []
    },
    {
      "cell_type": "code",
      "source": [
        "(A + B).matrix"
      ],
      "metadata": {
        "id": "S1yahJalVQbI"
      },
      "execution_count": null,
      "outputs": []
    },
    {
      "cell_type": "code",
      "source": [
        "(A * B).matrix"
      ],
      "metadata": {
        "id": "bcQLx4bSWOMC"
      },
      "execution_count": null,
      "outputs": []
    },
    {
      "cell_type": "code",
      "source": [
        "(A @ B).matrix"
      ],
      "metadata": {
        "id": "XrYEpFN-WPxd"
      },
      "execution_count": null,
      "outputs": []
    },
    {
      "cell_type": "code",
      "source": [
        "sum(sum(row) for row in ((1,2,3),(4,5,6),(4,5,6))) % 7247"
      ],
      "metadata": {
        "id": "lNEmYyqEtoqn"
      },
      "execution_count": null,
      "outputs": []
    },
    {
      "cell_type": "markdown",
      "source": [
        "# Задача 3"
      ],
      "metadata": {
        "id": "-xWQQ8H2LoDC"
      }
    },
    {
      "cell_type": "markdown",
      "source": [
        "Задача является продолжением задачи 3.1\n",
        "Придумать и реализовать простейшую хэш-функцию (дать краткое текстовое описание в комментариях в коде) для матрицы  в методе __hash__ (вынести в примесь).\n",
        "Ограничение на хэш-функцию - она должна быть не константой (не возвращать всегда одно число)\n",
        "Настроить кэширование произведения матриц по этой хэш-функции\n",
        "Найти коллизию в хэш-функции (если поиск производится кодом, то код также нужно выложить)\n",
        "Артефакт - 7 файлов.\n",
        "`A.txt, B.txt, C.txt, D.txt` - матрицы, такие, что\n",
        "`(hash(A) == hash(C)) and (A != C) and (B == D) and (A @ B != C @ D)`\n",
        "\n",
        "`AB.txt` - результат произведения A @ B\n",
        "\n",
        "`CD.txt` - настоящий результат произведения C @ D\n",
        "\n",
        "`hash.txt` - хэш матриц AB и CD\n"
      ],
      "metadata": {
        "id": "Zz_7yk7GLrhE"
      }
    },
    {
      "cell_type": "code",
      "source": [
        "class HashMixin:\n",
        "    # Наверное, самое простое, что мы можем сделать – это взять и вычислить остаток от деления\n",
        "    # Для большей эффективности возьмём простоё число, для боьшого объёма таблицы - большое число\n",
        "    def __hash__(self):\n",
        "        matrix, s = tuple(map(tuple, self.matrix)), 0\n",
        "        for row in matrix:\n",
        "            s+=sum(row)\n",
        "        return int(s % 7247)\n",
        "\n",
        "class Matrix(HashMixin):\n",
        "\n",
        "    @staticmethod\n",
        "    def matrix_shape(matrix):\n",
        "        return (len(matrix),len(matrix[0]))\n",
        "\n",
        "    def __init__(self, mas):\n",
        "        self.matrix = list(map(list, mas))\n",
        "        self.matrix_shape = self.matrix_shape(self.matrix)\n",
        "\n",
        "    def __add__(self, other):\n",
        "        types = [int,float]\n",
        "        sum_matrix = copy.deepcopy(self.matrix)\n",
        "        if type(other) in types:\n",
        "            for i in range(self.matrix_shape[0]):\n",
        "                for j in range(self.matrix_shape[1]):\n",
        "                    sum_matrix[i][j]+=other\n",
        "        elif not isinstance(other, type(self)):\n",
        "             raise TypeError(\n",
        "                f'Expected {type(other)!r} to be an Matrix or Number')\n",
        "        elif self.matrix_shape != other.matrix_shape:\n",
        "            raise ValueError(\n",
        "                f'Expected size {other.matrix_shape!r} not equal sizes {self.matrix_shape!r} ')\n",
        "        else:\n",
        "            for i in range(self.matrix_shape[0]):\n",
        "                for j in range(self.matrix_shape[1]):\n",
        "                    sum_matrix[i][j]+=other.matrix[i][j]\n",
        "        return sum_matrix\n",
        "\n",
        "    def __mul__(self, other):\n",
        "        types = [int,float]\n",
        "        mult_matrix = copy.deepcopy(self.matrix)\n",
        "        if type(other) in types:\n",
        "            for i in range(self.matrix_shape[0]):\n",
        "                for j in range(self.matrix_shape[1]):\n",
        "                    mult_matrix[i][j]*=other\n",
        "        elif not isinstance(other, type(self)):\n",
        "             raise TypeError(\n",
        "                f'Expected {type(other)!r} to be an Matrix or Number')\n",
        "        elif self.matrix_shape != other.matrix_shape:\n",
        "            raise ValueError(\n",
        "                f'Expected size {other.matrix_shape!r} not equal sizes {self.matrix_shape!r} ')\n",
        "        else:\n",
        "            for i in range(self.matrix_shape[0]):\n",
        "                for j in range(self.matrix_shape[1]):\n",
        "                    mult_matrix[i][j]*=other.matrix[i][j]\n",
        "        return mult_matrix\n",
        "\n",
        "    def __matmul__(self, other):\n",
        "        if not isinstance(other, type(self)):\n",
        "             raise TypeError(\n",
        "                f'Expected {type(other)!r} to be an Matrix')\n",
        "        elif self.matrix_shape[1] != other.matrix_shape[0]:\n",
        "            raise ValueError(\n",
        "                f'Expected size {other.matrix_shape[0]!r} not equal sizes {self.matrix_shape[1]!r} ')\n",
        "        else:\n",
        "            mult_matrix = [[0 for i in range(other.matrix_shape[1])] for j in range(self.matrix_shape[0])]\n",
        "            for i in range(self.matrix_shape[0]):\n",
        "                for j in range(other.matrix_shape[1]):\n",
        "                    mult_matrix[i][j]= sum([self.matrix[i][k]*other.matrix[k][j] for k in range(other.matrix_shape[0])])\n",
        "        return mult_matrix"
      ],
      "metadata": {
        "id": "XoBzBW4yLqvB"
      },
      "execution_count": null,
      "outputs": []
    },
    {
      "cell_type": "code",
      "source": [
        "a = Matrix([[1,2,3],[2,3,1],[3,1,2]])\n",
        "c = Matrix([[1,1,1],[2,2,2],[3,3,3]])\n",
        "b = Matrix([[1,0,0],[0,1,1],[0,0,1]])\n",
        "d = Matrix([[1,0,0],[0,1,1],[0,0,1]])"
      ],
      "metadata": {
        "id": "szfzJCPWxafD"
      },
      "execution_count": null,
      "outputs": []
    },
    {
      "cell_type": "code",
      "source": [
        "a@b"
      ],
      "metadata": {
        "id": "YjVAPMVHzA-k"
      },
      "execution_count": null,
      "outputs": []
    },
    {
      "cell_type": "code",
      "source": [
        "hash(a)"
      ],
      "metadata": {
        "id": "oBk3hl5Gyvu1"
      },
      "execution_count": null,
      "outputs": []
    },
    {
      "cell_type": "code",
      "source": [
        "hash(c)"
      ],
      "metadata": {
        "id": "kQ9aj3co4vXF"
      },
      "execution_count": null,
      "outputs": []
    },
    {
      "cell_type": "code",
      "source": [
        "hash(d)"
      ],
      "metadata": {
        "id": "K9eEoQRx4yAG"
      },
      "execution_count": null,
      "outputs": []
    },
    {
      "cell_type": "code",
      "source": [
        "hash(b)"
      ],
      "metadata": {
        "id": "j1K6_cWy41F6"
      },
      "execution_count": null,
      "outputs": []
    },
    {
      "cell_type": "code",
      "source": [
        "hash(Matrix(a@b))"
      ],
      "metadata": {
        "id": "Jyz-8U2b45Rs"
      },
      "execution_count": null,
      "outputs": []
    },
    {
      "cell_type": "code",
      "source": [
        "hash(Matrix(c@d))"
      ],
      "metadata": {
        "id": "buT-7riy481Z"
      },
      "execution_count": null,
      "outputs": []
    }
  ]
}